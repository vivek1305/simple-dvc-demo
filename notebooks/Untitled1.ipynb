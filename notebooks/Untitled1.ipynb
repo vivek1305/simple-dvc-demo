{
 "cells": [
  {
   "cell_type": "code",
   "execution_count": null,
   "id": "c14c4131-1dbe-412f-b640-068bd7374dc0",
   "metadata": {},
   "outputs": [],
   "source": [
    "from src.get_data import read_params\n",
    "import argparse\n",
    "import mlflow\n",
    "from mlflow.tracking import MlflowClient\n",
    "from pprint import pprint\n",
    "import joblib\n",
    "import os\n",
    "\n",
    "def log_production_model(config_path):\n",
    "    config = read_params(config_path)\n",
    "    \n",
    "    mlflow_config=config[\"mlflow_config\"]\n",
    "    \n",
    "    model_name = mlflow_config[\"registered_model_name\"]\n",
    "    remote_server_uri = mlflow_config[\"remote_server_uri\"]\n",
    "    mlflow.set_registry_uri(remote_server_uri)\n",
    "    run = mlflow.search_runs(experimet_ids=1)\n",
    "    lowest = runs[\"metrics.mae\"].sort_values(ascending=True)[0]\n",
    "    lowest_run_id= runs[runs[\"metrics.mae\"]==lowest][\"run_id\"][0]\n",
    "    \n",
    "    client = MlflowClient()\n",
    "    for mv in client.search_model_version(f\"name='{model_name}'\"):\n",
    "        mv = dict(mv)\n",
    "        \n",
    "        if mv[\"run_id\"] == lowest_run_id:\n",
    "            current_version = mv[\"version\"]\n",
    "            logged_model = mv[\"source\"]\n",
    "            pprint(mv, indent = 4)\n",
    "            client.transition_model_version_stage(\n",
    "                name = model_name,\n",
    "                version = current_version,\n",
    "                stage = \"Production\"\n",
    "            )\n",
    "        else:\n",
    "            current_version = mv[\"version\"]\n",
    "            client.transition_model_version_stage(\n",
    "                name = model_name,\n",
    "                version = current_version,\n",
    "                stage = \"Staging\"\n",
    "            )\n",
    "\n",
    "log_production_model(\"../params.yaml\")\n"
   ]
  }
 ],
 "metadata": {
  "kernelspec": {
   "display_name": "Python 3",
   "language": "python",
   "name": "python3"
  },
  "language_info": {
   "codemirror_mode": {
    "name": "ipython",
    "version": 3
   },
   "file_extension": ".py",
   "mimetype": "text/x-python",
   "name": "python",
   "nbconvert_exporter": "python",
   "pygments_lexer": "ipython3",
   "version": "3.7.10"
  }
 },
 "nbformat": 4,
 "nbformat_minor": 5
}
